{
 "cells": [
  {
   "cell_type": "code",
   "execution_count": 3,
   "id": "40a82884-f79b-445e-b280-6d13942913c1",
   "metadata": {},
   "outputs": [
    {
     "name": "stdout",
     "output_type": "stream",
     "text": [
      "0\n"
     ]
    }
   ],
   "source": [
    "from dask.distributed import Client\n",
    "\n",
    "client = None  # initialize once outside the loop\n",
    "entries = [0,1,2,3,4]\n",
    "\n",
    "for entry in entries:\n",
    "    if True:\n",
    "        if client is None or client.status != \"running\":\n",
    "            client = Client(\"tls://localhost:8786\")\n",
    "            print(entry)"
   ]
  },
  {
   "cell_type": "code",
   "execution_count": 4,
   "id": "e8a2657a-1a25-4f9e-9168-5e206d8beed6",
   "metadata": {},
   "outputs": [],
   "source": [
    "client = Client(\"tls://localhost:8786\")"
   ]
  },
  {
   "cell_type": "code",
   "execution_count": 5,
   "id": "1ef048f0-15b3-4606-b708-1503bcb1df62",
   "metadata": {},
   "outputs": [
    {
     "data": {
      "text/plain": [
       "'running'"
      ]
     },
     "execution_count": 5,
     "metadata": {},
     "output_type": "execute_result"
    }
   ],
   "source": [
    "client.status"
   ]
  },
  {
   "cell_type": "code",
   "execution_count": null,
   "id": "12e2cbf8-d026-4eac-a14e-364b3c57fa1d",
   "metadata": {},
   "outputs": [],
   "source": []
  }
 ],
 "metadata": {
  "kernelspec": {
   "display_name": "Python 3 (ipykernel)",
   "language": "python",
   "name": "python3"
  },
  "language_info": {
   "codemirror_mode": {
    "name": "ipython",
    "version": 3
   },
   "file_extension": ".py",
   "mimetype": "text/x-python",
   "name": "python",
   "nbconvert_exporter": "python",
   "pygments_lexer": "ipython3",
   "version": "3.12.5"
  }
 },
 "nbformat": 4,
 "nbformat_minor": 5
}
