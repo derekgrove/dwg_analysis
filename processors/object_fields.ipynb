{
 "cells": [
  {
   "cell_type": "markdown",
   "id": "93d6cf7a-7b9f-49e3-9d5f-195c5f4db4e3",
   "metadata": {},
   "source": [
    "# NanoAODv12"
   ]
  },
  {
   "cell_type": "markdown",
   "id": "bfe9ff35-0b25-4e73-a402-f51c0ab1e869",
   "metadata": {},
   "source": [
    "## Electron Fields:"
   ]
  },
  {
   "cell_type": "markdown",
   "id": "0e328d49-cc69-422c-bb62-40328b484fd2",
   "metadata": {},
   "source": [
    "```\n",
    "['convVeto', 'lostHits', 'photonIdx', 'charge', 'pdgId', 'deltaEtaSC', 'dxy', 'dxyErr', 'dz', 'dzErr', 'eInvMinusPInv', 'energyErr', 'eta', 'hoe', 'mass', 'miniPFRelIso_all', 'miniPFRelIso_chg', 'phi', 'pt', 'r9', 'scEtOverPt', 'sieie', 'genPartFlav', 'genPartIdx', 'genPartIdxG', 'photonIdxG']\n",
    "```"
   ]
  },
  {
   "cell_type": "markdown",
   "id": "7d454672-b031-45df-a48c-b26d932626f9",
   "metadata": {},
   "source": [
    "## LowPtElectron Fields:"
   ]
  },
  {
   "cell_type": "markdown",
   "id": "8af34799-46f0-4d44-a8ae-d32748b340b4",
   "metadata": {},
   "source": []
  },
  {
   "cell_type": "markdown",
   "id": "97bc4db5-6e86-4561-949b-d982c5455500",
   "metadata": {},
   "source": [
    "## Muon Fields:"
   ]
  },
  {
   "cell_type": "markdown",
   "id": "a7352b7a-8abb-4f3f-8566-472b2916cee3",
   "metadata": {},
   "source": []
  },
  {
   "cell_type": "markdown",
   "id": "ac1df7c3-8ab4-4911-b58c-6678b3d760a4",
   "metadata": {},
   "source": [
    "## Jet Fields:"
   ]
  },
  {
   "cell_type": "markdown",
   "id": "57d47895-fa8e-4024-96df-f6bdd8c9db54",
   "metadata": {},
   "source": []
  },
  {
   "cell_type": "markdown",
   "id": "415956e6-0f21-4916-9910-a976887b4382",
   "metadata": {},
   "source": [
    "## GenPart Fields:"
   ]
  },
  {
   "cell_type": "markdown",
   "id": "cb4f8746-58d6-4cb2-bff5-28f801b63eb7",
   "metadata": {},
   "source": []
  }
 ],
 "metadata": {
  "kernelspec": {
   "display_name": "Python 3 (ipykernel)",
   "language": "python",
   "name": "python3"
  },
  "language_info": {
   "codemirror_mode": {
    "name": "ipython",
    "version": 3
   },
   "file_extension": ".py",
   "mimetype": "text/x-python",
   "name": "python",
   "nbconvert_exporter": "python",
   "pygments_lexer": "ipython3",
   "version": "3.12.5"
  }
 },
 "nbformat": 4,
 "nbformat_minor": 5
}
